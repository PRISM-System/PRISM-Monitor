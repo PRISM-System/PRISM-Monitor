{
 "cells": [
  {
   "cell_type": "code",
   "execution_count": 1,
   "id": "77fee300",
   "metadata": {},
   "outputs": [],
   "source": [
    "import requests"
   ]
  },
  {
   "cell_type": "code",
   "execution_count": null,
   "id": "6aa1a5d6",
   "metadata": {},
   "outputs": [],
   "source": [
    "url = 'https://grnd.bimatrix.co.kr/django/agi/llm-agent/'\n",
    "prompt = \"Describe a beautiful sunset over the mountains.\"\n",
    "model = '/root/models/openai/gpt-oss-120b'\n",
    "kwargs = {\n",
    "    \"temperature\": 0.7,\n",
    "    \"max_new_tokens\": 150,\n",
    "    \"top_p\": 0.9,\n",
    "    \"stop\": [\"\\n\\n\"]\n",
    "}"
   ]
  },
  {
   "cell_type": "code",
   "execution_count": null,
   "id": "cb452aac",
   "metadata": {},
   "outputs": [],
   "source": [
    "messages = [\n",
    "    {\"role\": \"user\", \"content\": prompt}\n",
    "]\n",
    "data = {\n",
    "    \"model\": model,\n",
    "    \"messages\": messages,\n",
    "    \"max_tokens\": kwargs.get(\"max_tokens\", 512),\n",
    "    \"temperature\": kwargs.get(\"temperature\", 0.7),\n",
    "}\n",
    "\n",
    "response = requests.post(final_url, json=data, timeout=60)"
   ]
  },
  {
   "cell_type": "code",
   "execution_count": null,
   "id": "709df6d1",
   "metadata": {},
   "outputs": [],
   "source": []
  },
  {
   "cell_type": "code",
   "execution_count": null,
   "id": "dff55090",
   "metadata": {},
   "outputs": [],
   "source": [
    "import requests\n",
    "import json\n",
    "import pandas as pd\n",
    "import pandasql as psql\n",
    "\n",
    "from InstructionRF.prompt_manager import PromptManager\n",
    "from prism_monitor.llm.api import temp_llm_call\n",
    "from prism_monitor.modules.query2sql.query2sql import query2sql"
   ]
  },
  {
   "cell_type": "code",
   "execution_count": 2,
   "id": "4d61b62a",
   "metadata": {},
   "outputs": [],
   "source": [
    "user_query = \"도장 부스의 HUMIDITY가 계속 상승하고 있습니다. 도막 품질에 미칠 영향을 예측해주세요.\"\n",
    "manager = PromptManager('prism_monitor/modules/query2sql/scenarios_prompt.yaml')\n",
    "prompt = manager.get_full_prompt(user_query)"
   ]
  },
  {
   "cell_type": "code",
   "execution_count": 3,
   "id": "e3490830",
   "metadata": {},
   "outputs": [],
   "source": [
    "res = temp_llm_call(prompt)"
   ]
  },
  {
   "cell_type": "code",
   "execution_count": 4,
   "id": "c91ac9c9",
   "metadata": {},
   "outputs": [
    {
     "data": {
      "text/plain": [
       "{'classification_subclass': 'Painting(Automotive)',\n",
       " 'classified_class': 'Automotive',\n",
       " 'confidence': 0.9,\n",
       " 'evidence_terms': ['도장 부스', 'HUMIDITY'],\n",
       " 'original_query': '도장 부스의 HUMIDITY가 계속 상승하고 있습니다. 도막 품질에 미칠 영향을 예측해주세요.',\n",
       " 'sql': 'SELECT * FROM df ORDER BY TIMESTAMP DESC LIMIT 100;'}"
      ]
     },
     "execution_count": 4,
     "metadata": {},
     "output_type": "execute_result"
    }
   ],
   "source": [
    "res"
   ]
  }
 ],
 "metadata": {
  "kernelspec": {
   "display_name": "PRISM-Monitor-HwBQ3Ea_",
   "language": "python",
   "name": "python3"
  },
  "language_info": {
   "codemirror_mode": {
    "name": "ipython",
    "version": 3
   },
   "file_extension": ".py",
   "mimetype": "text/x-python",
   "name": "python",
   "nbconvert_exporter": "python",
   "pygments_lexer": "ipython3",
   "version": "3.11.13"
  }
 },
 "nbformat": 4,
 "nbformat_minor": 5
}
