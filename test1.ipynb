{
 "cells": [
  {
   "cell_type": "code",
   "execution_count": 2,
   "id": "96472ddb",
   "metadata": {},
   "outputs": [],
   "source": [
    "import os, sys"
   ]
  },
  {
   "cell_type": "code",
   "execution_count": 3,
   "id": "9f4a0e3a",
   "metadata": {},
   "outputs": [
    {
     "data": {
      "text/plain": [
       "['/home/minjoo/Github/prism_monitor/PRISM-Monitor/prism-core',\n",
       " '/home/minjoo/Github/prism_monitor/PRISM-Monitor',\n",
       " '/home/minjoo/.conda/envs/minjoo/lib/python39.zip',\n",
       " '/home/minjoo/.conda/envs/minjoo/lib/python3.9',\n",
       " '/home/minjoo/.conda/envs/minjoo/lib/python3.9/lib-dynload',\n",
       " '',\n",
       " '/home/minjoo/.local/lib/python3.9/site-packages',\n",
       " '/home/minjoo/.conda/envs/minjoo/lib/python3.9/site-packages']"
      ]
     },
     "execution_count": 3,
     "metadata": {},
     "output_type": "execute_result"
    }
   ],
   "source": [
    "sys.path"
   ]
  },
  {
   "cell_type": "code",
   "execution_count": 4,
   "id": "08232578",
   "metadata": {},
   "outputs": [],
   "source": [
    "sys.path.append('/home/minjoo/Github/prism_monitor/PRISM-Monitor/prism_monitor')"
   ]
  },
  {
   "cell_type": "code",
   "execution_count": 5,
   "id": "da31d3d9",
   "metadata": {},
   "outputs": [
    {
     "data": {
      "text/plain": [
       "['/home/minjoo/Github/prism_monitor/PRISM-Monitor/prism-core',\n",
       " '/home/minjoo/Github/prism_monitor/PRISM-Monitor',\n",
       " '/home/minjoo/.conda/envs/minjoo/lib/python39.zip',\n",
       " '/home/minjoo/.conda/envs/minjoo/lib/python3.9',\n",
       " '/home/minjoo/.conda/envs/minjoo/lib/python3.9/lib-dynload',\n",
       " '',\n",
       " '/home/minjoo/.local/lib/python3.9/site-packages',\n",
       " '/home/minjoo/.conda/envs/minjoo/lib/python3.9/site-packages',\n",
       " '/home/minjoo/Github/prism_monitor/PRISM-Monitor/prism_monitor']"
      ]
     },
     "execution_count": 5,
     "metadata": {},
     "output_type": "execute_result"
    }
   ],
   "source": [
    "sys.path"
   ]
  },
  {
   "cell_type": "code",
   "execution_count": null,
   "id": "2ade69fe",
   "metadata": {},
   "outputs": [],
   "source": [
    "import a_b\n",
    "import a-b"
   ]
  },
  {
   "cell_type": "code",
   "execution_count": null,
   "id": "4b126700",
   "metadata": {},
   "outputs": [],
   "source": [
    "from llm.api import llm_generate"
   ]
  },
  {
   "cell_type": "code",
   "execution_count": 8,
   "id": "1df32f26",
   "metadata": {},
   "outputs": [],
   "source": [
    "import os"
   ]
  },
  {
   "cell_type": "code",
   "execution_count": null,
   "id": "ae6c54e8",
   "metadata": {},
   "outputs": [
    {
     "data": {
      "text/plain": [
       "environ{'USER': 'minjoo',\n",
       "        'SSH_CLIENT': '166.104.139.237 52267 20813',\n",
       "        'XDG_SESSION_TYPE': 'tty',\n",
       "        'SHLVL': '1',\n",
       "        'MOTD_SHOWN': 'pam',\n",
       "        'HOME': '/home/minjoo',\n",
       "        'SSL_CERT_FILE': '/usr/lib/ssl/certs/ca-certificates.crt',\n",
       "        'DBUS_SESSION_BUS_ADDRESS': 'unix:path=/run/user/1003/bus',\n",
       "        'LOGNAME': 'minjoo',\n",
       "        '_': '/home/minjoo/.conda/envs/minjoo/bin/python',\n",
       "        'XDG_SESSION_CLASS': 'user',\n",
       "        'XDG_SESSION_ID': '100',\n",
       "        'VSCODE_CLI_REQUIRE_TOKEN': '253d870c-77e9-4062-b570-5d990beb2d21',\n",
       "        'PATH': '/home/minjoo/.conda/envs/minjoo/bin:/home/minjoo/.vscode-server/cli/servers/Stable-6f17636121051a53c88d3e605c491d22af2ba755/server/bin/remote-cli:/home/minjoo/.local/bin:/home/minjoo/.conda/envs/minjoo/bin:/home/compu/anaconda3/condabin:/usr/local/sbin:/usr/local/bin:/usr/sbin:/usr/bin:/sbin:/bin:/usr/games:/usr/local/games:/snap/bin:/usr/local/cuda/bin',\n",
       "        'VSCODE_AGENT_FOLDER': '/home/minjoo/.vscode-server',\n",
       "        'XDG_RUNTIME_DIR': '/run/user/1003',\n",
       "        'SSL_CERT_DIR': '/usr/lib/ssl/certs',\n",
       "        'LANG': 'en_US.UTF-8',\n",
       "        'SHELL': '/bin/bash',\n",
       "        'PWD': '/home/minjoo',\n",
       "        'SSH_CONNECTION': '166.104.139.237 52267 166.104.112.201 20813',\n",
       "        'VSCODE_CWD': '/home/minjoo',\n",
       "        'VSCODE_NLS_CONFIG': '{\"userLocale\":\"ko\",\"osLocale\":\"ko\",\"resolvedLanguage\":\"ko\",\"defaultMessagesFile\":\"/home/minjoo/.vscode-server/cli/servers/Stable-6f17636121051a53c88d3e605c491d22af2ba755/server/out/nls.messages.json\",\"languagePack\":{\"translationsConfigFile\":\"/home/minjoo/.vscode-server/data/clp/e933d42b69b562bbc00e361ae30005af.ko/tcf.json\",\"messagesFile\":\"/home/minjoo/.vscode-server/data/clp/e933d42b69b562bbc00e361ae30005af.ko/6f17636121051a53c88d3e605c491d22af2ba755/nls.messages.json\",\"corruptMarkerFile\":\"/home/minjoo/.vscode-server/data/clp/e933d42b69b562bbc00e361ae30005af.ko/corrupted.info\"},\"locale\":\"ko\",\"availableLanguages\":{\"*\":\"ko\"},\"_languagePackId\":\"e933d42b69b562bbc00e361ae30005af.ko\",\"_languagePackSupport\":true,\"_translationsConfigFile\":\"/home/minjoo/.vscode-server/data/clp/e933d42b69b562bbc00e361ae30005af.ko/tcf.json\",\"_cacheRoot\":\"/home/minjoo/.vscode-server/data/clp/e933d42b69b562bbc00e361ae30005af.ko\",\"_resolvedLanguagePackCoreLocation\":\"/home/minjoo/.vscode-server/data/clp/e933d42b69b562bbc00e361ae30005af.ko/6f17636121051a53c88d3e605c491d22af2ba755\",\"_corruptedFile\":\"/home/minjoo/.vscode-server/data/clp/e933d42b69b562bbc00e361ae30005af.ko/corrupted.info\"}',\n",
       "        'VSCODE_HANDLES_SIGPIPE': 'true',\n",
       "        'CONDA_EXE': '/home/compu/anaconda3/bin/conda',\n",
       "        '_CE_M': '',\n",
       "        'CONDA_PREFIX': '/home/minjoo/.conda/envs/minjoo',\n",
       "        'LS_COLORS': '',\n",
       "        'CONDA_PROMPT_MODIFIER': '(minjoo) ',\n",
       "        'LD_INCLUDE_PATH': ':/usr/local/cuda/include',\n",
       "        'LESSCLOSE': '/usr/bin/lesspipe %s %s',\n",
       "        '_CE_CONDA': '',\n",
       "        'LESSOPEN': '| /usr/bin/lesspipe %s',\n",
       "        'CONDA_SHLVL': '2',\n",
       "        'CONDA_PYTHON_EXE': '/home/compu/anaconda3/bin/python',\n",
       "        'LD_LIBRARY_PATH': ':/usr/local/cuda/lib64',\n",
       "        'CONDA_DEFAULT_ENV': 'minjoo',\n",
       "        'XDG_DATA_DIRS': '/usr/local/share:/usr/share:/var/lib/snapd/desktop',\n",
       "        'VSCODE_ESM_ENTRYPOINT': 'vs/workbench/api/node/extensionHostProcess',\n",
       "        'VSCODE_HANDLES_UNCAUGHT_ERRORS': 'true',\n",
       "        'BROWSER': '/home/minjoo/.vscode-server/cli/servers/Stable-6f17636121051a53c88d3e605c491d22af2ba755/server/bin/helpers/browser.sh',\n",
       "        'ELECTRON_RUN_AS_NODE': '1',\n",
       "        'VSCODE_IPC_HOOK_CLI': '/run/user/1003/vscode-ipc-5db9482c-7fa9-42b6-9a49-db7fa13a6d9d.sock',\n",
       "        'APPLICATION_INSIGHTS_NO_STATSBEAT': 'true',\n",
       "        'PYTHONUNBUFFERED': '1',\n",
       "        'LLM_URL': 'http://147.47.39.144:8000/api/agents/monitoring_agent/invoke',\n",
       "        'PRISM_CORE_DATABASE_URL': 'https://147.47.39.144:8000',\n",
       "        'CONDA_ROOT': '/home/compu/anaconda3',\n",
       "        'PYTHONPATH': './prism-core:./',\n",
       "        'PYTHONIOENCODING': 'utf-8',\n",
       "        'CONDA_PREFIX_1': '/home/compu/anaconda3',\n",
       "        'PYDEVD_IPYTHON_COMPATIBLE_DEBUGGING': '1',\n",
       "        'PYTHON_FROZEN_MODULES': 'on',\n",
       "        'PYDEVD_USE_FRAME_EVAL': 'NO',\n",
       "        'TERM': 'xterm-color',\n",
       "        'CLICOLOR': '1',\n",
       "        'FORCE_COLOR': '1',\n",
       "        'CLICOLOR_FORCE': '1',\n",
       "        'PAGER': 'cat',\n",
       "        'GIT_PAGER': 'cat',\n",
       "        'MPLBACKEND': 'module://matplotlib_inline.backend_inline'}"
      ]
     },
     "execution_count": 11,
     "metadata": {},
     "output_type": "execute_result"
    }
   ],
   "source": [
    "user = os.environ['USER']"
   ]
  },
  {
   "cell_type": "code",
   "execution_count": null,
   "id": "9dbc9f00",
   "metadata": {},
   "outputs": [],
   "source": [
    "password = 'your_password_here'"
   ]
  }
 ],
 "metadata": {
  "kernelspec": {
   "display_name": "minjoo",
   "language": "python",
   "name": "python3"
  },
  "language_info": {
   "codemirror_mode": {
    "name": "ipython",
    "version": 3
   },
   "file_extension": ".py",
   "mimetype": "text/x-python",
   "name": "python",
   "nbconvert_exporter": "python",
   "pygments_lexer": "ipython3",
   "version": "3.9.21"
  }
 },
 "nbformat": 4,
 "nbformat_minor": 5
}
